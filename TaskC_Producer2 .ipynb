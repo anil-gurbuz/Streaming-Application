{
 "cells": [
  {
   "cell_type": "code",
   "execution_count": 1,
   "metadata": {},
   "outputs": [],
   "source": [
    "# Import required packages\n",
    "import pymongo\n",
    "from pymongo import MongoClient\n",
    "import pandas as pd\n",
    "from pprint import pprint\n",
    "from time import sleep\n",
    "from json import dumps\n",
    "from kafka import KafkaProducer\n",
    "import random\n",
    "import datetime as dt"
   ]
  },
  {
   "cell_type": "code",
   "execution_count": 2,
   "metadata": {},
   "outputs": [],
   "source": [
    "# Import data file\n",
    "hotspotAQUA=pd.read_csv('hotspot_AQUA_streaming.csv')"
   ]
  },
  {
   "cell_type": "code",
   "execution_count": 3,
   "metadata": {},
   "outputs": [],
   "source": [
    "def publish_message(producer_instance, topic_name, data):\n",
    "    try:\n",
    "        producer_instance.send(topic_name, value=data)\n",
    "        print('Message published successfully. Data: ' + str(data))\n",
    "    except Exception as ex:\n",
    "        print('Exception in publishing message.')\n",
    "        print(str(ex))"
   ]
  },
  {
   "cell_type": "code",
   "execution_count": 4,
   "metadata": {},
   "outputs": [],
   "source": [
    "def connect_kafka_producer():\n",
    "    _producer = None\n",
    "    try:\n",
    "        _producer = KafkaProducer(bootstrap_servers=['localhost:9092'],\n",
    "                                  value_serializer=lambda x: dumps(x).encode('ascii'),\n",
    "                                  api_version=(0, 10))\n",
    "    except Exception as ex:\n",
    "        print('Exception while connecting Kafka.')\n",
    "        print(str(ex))\n",
    "    finally:\n",
    "        return _producer"
   ]
  },
  {
   "cell_type": "code",
   "execution_count": null,
   "metadata": {},
   "outputs": [
    {
     "name": "stdout",
     "output_type": "stream",
     "text": [
      "Publishing records..\n",
      "Message published successfully. Data: {'longitude': 149.263, 'created_time': '23/05/2019 22-15-27', 'latitude': -37.641999999999996, 'confidence': 100.0, 'sender_id': 2, 'surface_temperature_celcius': 65.0}\n",
      "Message published successfully. Data: {'longitude': 143.9971, 'created_time': '23/05/2019 22-15-55', 'latitude': -38.4879, 'confidence': 54.0, 'sender_id': 2, 'surface_temperature_celcius': 40.0}\n",
      "Message published successfully. Data: {'longitude': 141.1485, 'created_time': '23/05/2019 22-16-06', 'latitude': -36.714, 'confidence': 61.0, 'sender_id': 2, 'surface_temperature_celcius': 41.0}\n",
      "Message published successfully. Data: {'longitude': 143.915, 'created_time': '23/05/2019 22-16-35', 'latitude': -36.6511, 'confidence': 88.0, 'sender_id': 2, 'surface_temperature_celcius': 64.0}\n",
      "Message published successfully. Data: {'longitude': 142.2188, 'created_time': '23/05/2019 22-16-53', 'latitude': -36.8395, 'confidence': 82.0, 'sender_id': 2, 'surface_temperature_celcius': 62.0}\n",
      "Message published successfully. Data: {'longitude': 142.2474, 'created_time': '23/05/2019 22-17-12', 'latitude': -36.4737, 'confidence': 74.0, 'sender_id': 2, 'surface_temperature_celcius': 55.0}\n",
      "Message published successfully. Data: {'longitude': 148.105, 'created_time': '23/05/2019 22-17-37', 'latitude': -37.461, 'confidence': 76.0, 'sender_id': 2, 'surface_temperature_celcius': 42.0}\n",
      "Message published successfully. Data: {'longitude': 141.0286, 'created_time': '23/05/2019 22-17-48', 'latitude': -36.4133, 'confidence': 52.0, 'sender_id': 2, 'surface_temperature_celcius': 47.0}\n",
      "Message published successfully. Data: {'longitude': 143.1236, 'created_time': '23/05/2019 22-18-02', 'latitude': -37.9255, 'confidence': 68.0, 'sender_id': 2, 'surface_temperature_celcius': 44.0}\n",
      "Message published successfully. Data: {'longitude': 146.3122, 'created_time': '23/05/2019 22-18-12', 'latitude': -38.4349, 'confidence': 100.0, 'sender_id': 2, 'surface_temperature_celcius': 93.0}\n",
      "Message published successfully. Data: {'longitude': 143.1986, 'created_time': '23/05/2019 22-18-36', 'latitude': -37.8635, 'confidence': 57.0, 'sender_id': 2, 'surface_temperature_celcius': 39.0}\n",
      "Message published successfully. Data: {'longitude': 143.5051, 'created_time': '23/05/2019 22-18-49', 'latitude': -36.9817, 'confidence': 100.0, 'sender_id': 2, 'surface_temperature_celcius': 113.0}\n",
      "Message published successfully. Data: {'longitude': 146.9658, 'created_time': '23/05/2019 22-19-02', 'latitude': -36.7842, 'confidence': 53.0, 'sender_id': 2, 'surface_temperature_celcius': 39.0}\n",
      "Message published successfully. Data: {'longitude': 142.9011, 'created_time': '23/05/2019 22-19-15', 'latitude': -37.5025, 'confidence': 73.0, 'sender_id': 2, 'surface_temperature_celcius': 47.0}\n",
      "Message published successfully. Data: {'longitude': 143.1077, 'created_time': '23/05/2019 22-19-33', 'latitude': -36.4142, 'confidence': 100.0, 'sender_id': 2, 'surface_temperature_celcius': 97.0}\n",
      "Message published successfully. Data: {'longitude': 145.8275, 'created_time': '23/05/2019 22-19-44', 'latitude': -36.1687, 'confidence': 68.0, 'sender_id': 2, 'surface_temperature_celcius': 44.0}\n",
      "Message published successfully. Data: {'longitude': 147.0534, 'created_time': '23/05/2019 22-20-03', 'latitude': -37.4336, 'confidence': 60.0, 'sender_id': 2, 'surface_temperature_celcius': 51.0}\n",
      "Message published successfully. Data: {'longitude': 143.6422, 'created_time': '23/05/2019 22-20-20', 'latitude': -37.982, 'confidence': 56.0, 'sender_id': 2, 'surface_temperature_celcius': 42.0}\n",
      "Message published successfully. Data: {'longitude': 141.6328, 'created_time': '23/05/2019 22-20-46', 'latitude': -34.2636, 'confidence': 81.0, 'sender_id': 2, 'surface_temperature_celcius': 54.0}\n",
      "Message published successfully. Data: {'longitude': 141.8091, 'created_time': '23/05/2019 22-21-11', 'latitude': -37.78, 'confidence': 65.0, 'sender_id': 2, 'surface_temperature_celcius': 42.0}\n",
      "Message published successfully. Data: {'longitude': 141.7374, 'created_time': '23/05/2019 22-21-33', 'latitude': -34.2576, 'confidence': 78.0, 'sender_id': 2, 'surface_temperature_celcius': 52.0}\n",
      "Message published successfully. Data: {'longitude': 141.5907, 'created_time': '23/05/2019 22-21-46', 'latitude': -36.0594, 'confidence': 96.0, 'sender_id': 2, 'surface_temperature_celcius': 79.0}\n",
      "Message published successfully. Data: {'longitude': 141.4541, 'created_time': '23/05/2019 22-22-06', 'latitude': -36.7381, 'confidence': 84.0, 'sender_id': 2, 'surface_temperature_celcius': 58.0}\n",
      "Message published successfully. Data: {'longitude': 147.1609, 'created_time': '23/05/2019 22-22-27', 'latitude': -37.8407, 'confidence': 77.0, 'sender_id': 2, 'surface_temperature_celcius': 51.0}\n",
      "Message published successfully. Data: {'longitude': 143.2451, 'created_time': '23/05/2019 22-22-56', 'latitude': -37.9748, 'confidence': 76.0, 'sender_id': 2, 'surface_temperature_celcius': 50.0}\n",
      "Message published successfully. Data: {'longitude': 141.4916, 'created_time': '23/05/2019 22-23-13', 'latitude': -36.3489, 'confidence': 55.0, 'sender_id': 2, 'surface_temperature_celcius': 39.0}\n",
      "Message published successfully. Data: {'longitude': 146.0788, 'created_time': '23/05/2019 22-23-27', 'latitude': -36.9733, 'confidence': 57.0, 'sender_id': 2, 'surface_temperature_celcius': 40.0}\n",
      "Message published successfully. Data: {'longitude': 149.32299999999998, 'created_time': '23/05/2019 22-23-49', 'latitude': -37.623000000000005, 'confidence': 51.0, 'sender_id': 2, 'surface_temperature_celcius': 38.0}\n",
      "Message published successfully. Data: {'longitude': 141.6999, 'created_time': '23/05/2019 22-24-07', 'latitude': -36.4196, 'confidence': 76.0, 'sender_id': 2, 'surface_temperature_celcius': 50.0}\n",
      "Message published successfully. Data: {'longitude': 142.0906, 'created_time': '23/05/2019 22-24-24', 'latitude': -35.7657, 'confidence': 90.0, 'sender_id': 2, 'surface_temperature_celcius': 66.0}\n",
      "Message published successfully. Data: {'longitude': 140.9789, 'created_time': '23/05/2019 22-24-38', 'latitude': -36.3153, 'confidence': 91.0, 'sender_id': 2, 'surface_temperature_celcius': 69.0}\n",
      "Message published successfully. Data: {'longitude': 147.9187, 'created_time': '23/05/2019 22-24-58', 'latitude': -37.2284, 'confidence': 94.0, 'sender_id': 2, 'surface_temperature_celcius': 73.0}\n",
      "Message published successfully. Data: {'longitude': 145.1679, 'created_time': '23/05/2019 22-25-28', 'latitude': -36.8846, 'confidence': 79.0, 'sender_id': 2, 'surface_temperature_celcius': 52.0}\n",
      "Message published successfully. Data: {'longitude': 142.7238, 'created_time': '23/05/2019 22-25-50', 'latitude': -37.5135, 'confidence': 93.0, 'sender_id': 2, 'surface_temperature_celcius': 72.0}\n",
      "Message published successfully. Data: {'longitude': 148.822, 'created_time': '23/05/2019 22-26-14', 'latitude': -37.2142, 'confidence': 55.0, 'sender_id': 2, 'surface_temperature_celcius': 39.0}\n",
      "Message published successfully. Data: {'longitude': 148.08100000000002, 'created_time': '23/05/2019 22-26-42', 'latitude': -37.399, 'confidence': 100.0, 'sender_id': 2, 'surface_temperature_celcius': 84.0}\n",
      "Message published successfully. Data: {'longitude': 141.7076, 'created_time': '23/05/2019 22-27-00', 'latitude': -37.1286, 'confidence': 74.0, 'sender_id': 2, 'surface_temperature_celcius': 48.0}\n",
      "Message published successfully. Data: {'longitude': 146.8398, 'created_time': '23/05/2019 22-27-27', 'latitude': -38.2094, 'confidence': 100.0, 'sender_id': 2, 'surface_temperature_celcius': 55.0}\n",
      "Message published successfully. Data: {'longitude': 148.03799999999998, 'created_time': '23/05/2019 22-27-50', 'latitude': -37.586, 'confidence': 77.0, 'sender_id': 2, 'surface_temperature_celcius': 47.0}\n",
      "Message published successfully. Data: {'longitude': 143.8106, 'created_time': '23/05/2019 22-28-00', 'latitude': -36.923, 'confidence': 70.0, 'sender_id': 2, 'surface_temperature_celcius': 45.0}\n",
      "Message published successfully. Data: {'longitude': 148.07299999999998, 'created_time': '23/05/2019 22-28-11', 'latitude': -37.336, 'confidence': 82.0, 'sender_id': 2, 'surface_temperature_celcius': 38.0}\n",
      "Message published successfully. Data: {'longitude': 142.8706, 'created_time': '23/05/2019 22-28-21', 'latitude': -36.3326, 'confidence': 74.0, 'sender_id': 2, 'surface_temperature_celcius': 47.0}\n"
     ]
    },
    {
     "name": "stdout",
     "output_type": "stream",
     "text": [
      "Message published successfully. Data: {'longitude': 141.2799, 'created_time': '23/05/2019 22-28-49', 'latitude': -36.4216, 'confidence': 60.0, 'sender_id': 2, 'surface_temperature_celcius': 40.0}\n",
      "Message published successfully. Data: {'longitude': 145.5688, 'created_time': '23/05/2019 22-29-03', 'latitude': -36.4417, 'confidence': 77.0, 'sender_id': 2, 'surface_temperature_celcius': 51.0}\n",
      "Message published successfully. Data: {'longitude': 142.99, 'created_time': '23/05/2019 22-29-14', 'latitude': -37.6196, 'confidence': 84.0, 'sender_id': 2, 'surface_temperature_celcius': 58.0}\n",
      "Message published successfully. Data: {'longitude': 142.3844, 'created_time': '23/05/2019 22-29-32', 'latitude': -38.027, 'confidence': 100.0, 'sender_id': 2, 'surface_temperature_celcius': 95.0}\n",
      "Message published successfully. Data: {'longitude': 144.7594, 'created_time': '23/05/2019 22-29-52', 'latitude': -36.6463, 'confidence': 59.0, 'sender_id': 2, 'surface_temperature_celcius': 41.0}\n",
      "Message published successfully. Data: {'longitude': 142.9619, 'created_time': '23/05/2019 22-30-07', 'latitude': -36.9442, 'confidence': 86.0, 'sender_id': 2, 'surface_temperature_celcius': 61.0}\n",
      "Message published successfully. Data: {'longitude': 143.015, 'created_time': '23/05/2019 22-30-30', 'latitude': -37.4784, 'confidence': 62.0, 'sender_id': 2, 'surface_temperature_celcius': 47.0}\n",
      "Message published successfully. Data: {'longitude': 146.0621, 'created_time': '23/05/2019 22-30-57', 'latitude': -36.0829, 'confidence': 88.0, 'sender_id': 2, 'surface_temperature_celcius': 63.0}\n",
      "Message published successfully. Data: {'longitude': 145.2775, 'created_time': '23/05/2019 22-31-26', 'latitude': -36.6892, 'confidence': 91.0, 'sender_id': 2, 'surface_temperature_celcius': 69.0}\n",
      "Message published successfully. Data: {'longitude': 143.8589, 'created_time': '23/05/2019 22-31-52', 'latitude': -37.0585, 'confidence': 61.0, 'sender_id': 2, 'surface_temperature_celcius': 41.0}\n",
      "Message published successfully. Data: {'longitude': 143.1764, 'created_time': '23/05/2019 22-32-17', 'latitude': -37.7905, 'confidence': 74.0, 'sender_id': 2, 'surface_temperature_celcius': 47.0}\n",
      "Message published successfully. Data: {'longitude': 141.1567, 'created_time': '23/05/2019 22-32-32', 'latitude': -36.4286, 'confidence': 99.0, 'sender_id': 2, 'surface_temperature_celcius': 84.0}\n"
     ]
    }
   ],
   "source": [
    "if __name__ == '__main__':\n",
    "    # Assign topic name\n",
    "    topic = 'hotspot_AQUA_streaming'\n",
    "    \n",
    "    print('Publishing records..')\n",
    "    producer = connect_kafka_producer()\n",
    "    while True:\n",
    "        try:\n",
    "            # Select a random row\n",
    "            i = random.randrange(hotspotAQUA.shape[0]) \n",
    "            # Get current time\n",
    "            datetime = str(dt.datetime.now().strftime(\"%d/%m/%Y %H-%M-%S\"))\n",
    "            # Turn into dictionary\n",
    "            message = hotspotAQUA.iloc[i].astype('float').to_dict()\n",
    "            # Add sender ID to dictionary\n",
    "            message[\"sender_id\"]=2          \n",
    "            # Add current time information to the dictionary\n",
    "            message[\"created_time\"]=datetime  \n",
    "            #Publish meassage\n",
    "            publish_message(producer, topic, message) \n",
    "            # Stream every 10-30 seconds\n",
    "            sleep(random.randint(10,30))\n",
    "        except KeyboardInterrupt:\n",
    "            print('stop publishing records')\n",
    "            break"
   ]
  }
 ],
 "metadata": {
  "kernelspec": {
   "display_name": "Python 3",
   "language": "python",
   "name": "python3"
  },
  "language_info": {
   "codemirror_mode": {
    "name": "ipython",
    "version": 3
   },
   "file_extension": ".py",
   "mimetype": "text/x-python",
   "name": "python",
   "nbconvert_exporter": "python",
   "pygments_lexer": "ipython3",
   "version": "3.6.8"
  }
 },
 "nbformat": 4,
 "nbformat_minor": 2
}
