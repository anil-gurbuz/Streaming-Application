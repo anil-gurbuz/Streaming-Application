{
 "cells": [
  {
   "cell_type": "code",
   "execution_count": 1,
   "metadata": {},
   "outputs": [],
   "source": [
    "# Import required packages\n",
    "import pymongo\n",
    "from pymongo import MongoClient\n",
    "import pandas as pd\n",
    "from pprint import pprint\n",
    "from time import sleep\n",
    "from json import dumps\n",
    "from kafka import KafkaProducer\n",
    "import random\n",
    "import datetime as dt"
   ]
  },
  {
   "cell_type": "code",
   "execution_count": 2,
   "metadata": {},
   "outputs": [],
   "source": [
    "# Import data file\n",
    "hotspotTERRA=pd.read_csv('hotspot_TERRA_streaming.csv')"
   ]
  },
  {
   "cell_type": "code",
   "execution_count": 3,
   "metadata": {},
   "outputs": [],
   "source": [
    "def publish_message(producer_instance, topic_name, data):\n",
    "    try:\n",
    "        producer_instance.send(topic_name, value=data)\n",
    "        print('Message published successfully. Data: ' + str(data))\n",
    "    except Exception as ex:\n",
    "        print('Exception in publishing message.')\n",
    "        print(str(ex))"
   ]
  },
  {
   "cell_type": "code",
   "execution_count": 4,
   "metadata": {},
   "outputs": [],
   "source": [
    "def connect_kafka_producer():\n",
    "    _producer = None\n",
    "    try:\n",
    "        _producer = KafkaProducer(bootstrap_servers=['localhost:9092'],\n",
    "                                  value_serializer=lambda x: dumps(x).encode('ascii'),\n",
    "                                  api_version=(0, 10))\n",
    "    except Exception as ex:\n",
    "        print('Exception while connecting Kafka.')\n",
    "        print(str(ex))\n",
    "    finally:\n",
    "        return _producer"
   ]
  },
  {
   "cell_type": "code",
   "execution_count": null,
   "metadata": {},
   "outputs": [
    {
     "name": "stdout",
     "output_type": "stream",
     "text": [
      "Publishing records..\n",
      "Message published successfully. Data: {'sender_id': 3, 'latitude': -36.7771, 'surface_temperature_celcius': 54.0, 'longitude': 143.5148, 'confidence': 81.0, 'created_time': '23/05/2019 22-15-28'}\n",
      "Message published successfully. Data: {'sender_id': 3, 'latitude': -36.3452, 'surface_temperature_celcius': 42.0, 'longitude': 145.8969, 'confidence': 64.0, 'created_time': '23/05/2019 22-15-57'}\n",
      "Message published successfully. Data: {'sender_id': 3, 'latitude': -37.5949, 'surface_temperature_celcius': 98.0, 'longitude': 142.6857, 'confidence': 100.0, 'created_time': '23/05/2019 22-16-11'}\n",
      "Message published successfully. Data: {'sender_id': 3, 'latitude': -35.2464, 'surface_temperature_celcius': 45.0, 'longitude': 141.1143, 'confidence': 98.0, 'created_time': '23/05/2019 22-16-23'}\n",
      "Message published successfully. Data: {'sender_id': 3, 'latitude': -36.995, 'surface_temperature_celcius': 37.0, 'longitude': 148.268, 'confidence': 56.0, 'created_time': '23/05/2019 22-16-33'}\n",
      "Message published successfully. Data: {'sender_id': 3, 'latitude': -37.4323, 'surface_temperature_celcius': 76.0, 'longitude': 147.6583, 'confidence': 95.0, 'created_time': '23/05/2019 22-17-03'}\n",
      "Message published successfully. Data: {'sender_id': 3, 'latitude': -38.001999999999995, 'surface_temperature_celcius': 60.0, 'longitude': 144.514, 'confidence': 88.0, 'created_time': '23/05/2019 22-17-19'}\n",
      "Message published successfully. Data: {'sender_id': 3, 'latitude': -36.1456, 'surface_temperature_celcius': 58.0, 'longitude': 141.9066, 'confidence': 84.0, 'created_time': '23/05/2019 22-17-47'}\n",
      "Message published successfully. Data: {'sender_id': 3, 'latitude': -37.623000000000005, 'surface_temperature_celcius': 38.0, 'longitude': 149.32299999999998, 'confidence': 51.0, 'created_time': '23/05/2019 22-17-58'}\n",
      "Message published successfully. Data: {'sender_id': 3, 'latitude': -36.3753, 'surface_temperature_celcius': 40.0, 'longitude': 146.6914, 'confidence': 57.0, 'created_time': '23/05/2019 22-18-21'}\n",
      "Message published successfully. Data: {'sender_id': 3, 'latitude': -35.9342, 'surface_temperature_celcius': 113.0, 'longitude': 141.9444, 'confidence': 94.0, 'created_time': '23/05/2019 22-18-44'}\n",
      "Message published successfully. Data: {'sender_id': 3, 'latitude': -37.903, 'surface_temperature_celcius': 59.0, 'longitude': 141.0975, 'confidence': 84.0, 'created_time': '23/05/2019 22-18-59'}\n",
      "Message published successfully. Data: {'sender_id': 3, 'latitude': -36.3438, 'surface_temperature_celcius': 78.0, 'longitude': 141.5832, 'confidence': 96.0, 'created_time': '23/05/2019 22-19-26'}\n",
      "Message published successfully. Data: {'sender_id': 3, 'latitude': -36.5454, 'surface_temperature_celcius': 96.0, 'longitude': 144.7402, 'confidence': 100.0, 'created_time': '23/05/2019 22-19-43'}\n",
      "Message published successfully. Data: {'sender_id': 3, 'latitude': -36.4469, 'surface_temperature_celcius': 51.0, 'longitude': 144.7952, 'confidence': 78.0, 'created_time': '23/05/2019 22-20-00'}\n",
      "Message published successfully. Data: {'sender_id': 3, 'latitude': -38.5214, 'surface_temperature_celcius': 57.0, 'longitude': 146.4027, 'confidence': 84.0, 'created_time': '23/05/2019 22-20-25'}\n",
      "Message published successfully. Data: {'sender_id': 3, 'latitude': -36.888000000000005, 'surface_temperature_celcius': 52.0, 'longitude': 142.2484, 'confidence': 79.0, 'created_time': '23/05/2019 22-20-38'}\n",
      "Message published successfully. Data: {'sender_id': 3, 'latitude': -38.0427, 'surface_temperature_celcius': 56.0, 'longitude': 146.3979, 'confidence': 78.0, 'created_time': '23/05/2019 22-20-58'}\n",
      "Message published successfully. Data: {'sender_id': 3, 'latitude': -37.0782, 'surface_temperature_celcius': 68.0, 'longitude': 145.3625, 'confidence': 91.0, 'created_time': '23/05/2019 22-21-28'}\n",
      "Message published successfully. Data: {'sender_id': 3, 'latitude': -36.533, 'surface_temperature_celcius': 51.0, 'longitude': 144.0183, 'confidence': 78.0, 'created_time': '23/05/2019 22-21-57'}\n",
      "Message published successfully. Data: {'sender_id': 3, 'latitude': -37.7509, 'surface_temperature_celcius': 82.0, 'longitude': 143.4023, 'confidence': 98.0, 'created_time': '23/05/2019 22-22-26'}\n",
      "Message published successfully. Data: {'sender_id': 3, 'latitude': -36.4532, 'surface_temperature_celcius': 56.0, 'longitude': 143.1564, 'confidence': 83.0, 'created_time': '23/05/2019 22-22-44'}\n",
      "Message published successfully. Data: {'sender_id': 3, 'latitude': -36.7439, 'surface_temperature_celcius': 46.0, 'longitude': 141.8553, 'confidence': 71.0, 'created_time': '23/05/2019 22-23-09'}\n",
      "Message published successfully. Data: {'sender_id': 3, 'latitude': -35.937, 'surface_temperature_celcius': 51.0, 'longitude': 145.607, 'confidence': 73.0, 'created_time': '23/05/2019 22-23-31'}\n",
      "Message published successfully. Data: {'sender_id': 3, 'latitude': -37.6606, 'surface_temperature_celcius': 43.0, 'longitude': 142.9932, 'confidence': 64.0, 'created_time': '23/05/2019 22-23-57'}\n",
      "Message published successfully. Data: {'sender_id': 3, 'latitude': -36.5882, 'surface_temperature_celcius': 56.0, 'longitude': 144.51, 'confidence': 83.0, 'created_time': '23/05/2019 22-24-16'}\n",
      "Message published successfully. Data: {'sender_id': 3, 'latitude': -38.1536, 'surface_temperature_celcius': 50.0, 'longitude': 144.1275, 'confidence': 77.0, 'created_time': '23/05/2019 22-24-42'}\n",
      "Message published successfully. Data: {'sender_id': 3, 'latitude': -37.3072, 'surface_temperature_celcius': 46.0, 'longitude': 147.5003, 'confidence': 58.0, 'created_time': '23/05/2019 22-24-56'}\n",
      "Message published successfully. Data: {'sender_id': 3, 'latitude': -36.275, 'surface_temperature_celcius': 60.0, 'longitude': 146.154, 'confidence': 86.0, 'created_time': '23/05/2019 22-25-14'}\n",
      "Message published successfully. Data: {'sender_id': 3, 'latitude': -37.6261, 'surface_temperature_celcius': 59.0, 'longitude': 142.9447, 'confidence': 85.0, 'created_time': '23/05/2019 22-25-31'}\n",
      "Message published successfully. Data: {'sender_id': 3, 'latitude': -36.758, 'surface_temperature_celcius': 51.0, 'longitude': 145.19, 'confidence': 62.0, 'created_time': '23/05/2019 22-25-56'}\n",
      "Message published successfully. Data: {'sender_id': 3, 'latitude': -37.9898, 'surface_temperature_celcius': 43.0, 'longitude': 143.8507, 'confidence': 67.0, 'created_time': '23/05/2019 22-26-12'}\n",
      "Message published successfully. Data: {'sender_id': 3, 'latitude': -37.6339, 'surface_temperature_celcius': 46.0, 'longitude': 143.4108, 'confidence': 69.0, 'created_time': '23/05/2019 22-26-38'}\n",
      "Message published successfully. Data: {'sender_id': 3, 'latitude': -37.7746, 'surface_temperature_celcius': 65.0, 'longitude': 148.3673, 'confidence': 88.0, 'created_time': '23/05/2019 22-27-04'}\n",
      "Message published successfully. Data: {'sender_id': 3, 'latitude': -36.1484, 'surface_temperature_celcius': 48.0, 'longitude': 141.3879, 'confidence': 70.0, 'created_time': '23/05/2019 22-27-30'}\n",
      "Message published successfully. Data: {'sender_id': 3, 'latitude': -37.931999999999995, 'surface_temperature_celcius': 50.0, 'longitude': 146.1845, 'confidence': 61.0, 'created_time': '23/05/2019 22-27-44'}\n",
      "Message published successfully. Data: {'sender_id': 3, 'latitude': -36.4379, 'surface_temperature_celcius': 63.0, 'longitude': 141.3392, 'confidence': 87.0, 'created_time': '23/05/2019 22-28-07'}\n",
      "Message published successfully. Data: {'sender_id': 3, 'latitude': -37.062, 'surface_temperature_celcius': 29.0, 'longitude': 141.373, 'confidence': 53.0, 'created_time': '23/05/2019 22-28-34'}\n",
      "Message published successfully. Data: {'sender_id': 3, 'latitude': -37.0761, 'surface_temperature_celcius': 89.0, 'longitude': 141.0574, 'confidence': 100.0, 'created_time': '23/05/2019 22-28-50'}\n",
      "Message published successfully. Data: {'sender_id': 3, 'latitude': -36.7422, 'surface_temperature_celcius': 48.0, 'longitude': 141.8511, 'confidence': 66.0, 'created_time': '23/05/2019 22-29-08'}\n",
      "Message published successfully. Data: {'sender_id': 3, 'latitude': -36.7786, 'surface_temperature_celcius': 105.0, 'longitude': 145.178, 'confidence': 100.0, 'created_time': '23/05/2019 22-29-24'}\n",
      "Message published successfully. Data: {'sender_id': 3, 'latitude': -37.6674, 'surface_temperature_celcius': 42.0, 'longitude': 142.2687, 'confidence': 65.0, 'created_time': '23/05/2019 22-29-41'}\n"
     ]
    },
    {
     "name": "stdout",
     "output_type": "stream",
     "text": [
      "Message published successfully. Data: {'sender_id': 3, 'latitude': -37.4786, 'surface_temperature_celcius': 45.0, 'longitude': 141.4578, 'confidence': 70.0, 'created_time': '23/05/2019 22-30-10'}\n",
      "Message published successfully. Data: {'sender_id': 3, 'latitude': -37.9625, 'surface_temperature_celcius': 58.0, 'longitude': 143.5474, 'confidence': 84.0, 'created_time': '23/05/2019 22-30-29'}\n",
      "Message published successfully. Data: {'sender_id': 3, 'latitude': -36.6599, 'surface_temperature_celcius': 44.0, 'longitude': 144.6129, 'confidence': 68.0, 'created_time': '23/05/2019 22-30-56'}\n",
      "Message published successfully. Data: {'sender_id': 3, 'latitude': -37.6745, 'surface_temperature_celcius': 48.0, 'longitude': 142.9848, 'confidence': 75.0, 'created_time': '23/05/2019 22-31-18'}\n",
      "Message published successfully. Data: {'sender_id': 3, 'latitude': -37.0856, 'surface_temperature_celcius': 45.0, 'longitude': 143.8728, 'confidence': 71.0, 'created_time': '23/05/2019 22-31-28'}\n",
      "Message published successfully. Data: {'sender_id': 3, 'latitude': -37.7509, 'surface_temperature_celcius': 82.0, 'longitude': 143.4023, 'confidence': 98.0, 'created_time': '23/05/2019 22-31-47'}\n",
      "Message published successfully. Data: {'sender_id': 3, 'latitude': -36.3066, 'surface_temperature_celcius': 54.0, 'longitude': 141.0728, 'confidence': 81.0, 'created_time': '23/05/2019 22-31-58'}\n",
      "Message published successfully. Data: {'sender_id': 3, 'latitude': -35.2432, 'surface_temperature_celcius': 44.0, 'longitude': 143.4496, 'confidence': 58.0, 'created_time': '23/05/2019 22-32-11'}\n",
      "Message published successfully. Data: {'sender_id': 3, 'latitude': -36.6605, 'surface_temperature_celcius': 55.0, 'longitude': 141.2603, 'confidence': 81.0, 'created_time': '23/05/2019 22-32-26'}\n",
      "Message published successfully. Data: {'sender_id': 3, 'latitude': -36.7124, 'surface_temperature_celcius': 46.0, 'longitude': 143.8381, 'confidence': 71.0, 'created_time': '23/05/2019 22-32-50'}\n"
     ]
    }
   ],
   "source": [
    "if __name__ == '__main__':\n",
    "    # Assign topic name\n",
    "    topic = 'hotspot_TERRA_streaming'\n",
    "    \n",
    "    print('Publishing records..')\n",
    "    producer = connect_kafka_producer()\n",
    "    while True:\n",
    "        try:\n",
    "            # Select a random row\n",
    "            i=random.randrange(hotspotTERRA.shape[0]) \n",
    "            # Get current time\n",
    "            datetime = str(dt.datetime.now().strftime(\"%d/%m/%Y %H-%M-%S\"))\n",
    "            # Turn into dictionary\n",
    "            message = hotspotTERRA.iloc[i].astype('float').to_dict()\n",
    "            # Add sender ID to dictionary\n",
    "            message[\"sender_id\"]= 3  \n",
    "            # Add current time information to the dictionary\n",
    "            message[\"created_time\"]=datetime   \n",
    "            #Publish meassage\n",
    "            publish_message(producer, topic, message) \n",
    "            # Stream every 10-30 seconds\n",
    "            sleep(random.randint(10,30))              \n",
    "        except KeyboardInterrupt:\n",
    "            print('stop publishing records')\n",
    "            break"
   ]
  }
 ],
 "metadata": {
  "kernelspec": {
   "display_name": "Python 3",
   "language": "python",
   "name": "python3"
  },
  "language_info": {
   "codemirror_mode": {
    "name": "ipython",
    "version": 3
   },
   "file_extension": ".py",
   "mimetype": "text/x-python",
   "name": "python",
   "nbconvert_exporter": "python",
   "pygments_lexer": "ipython3",
   "version": "3.6.8"
  }
 },
 "nbformat": 4,
 "nbformat_minor": 2
}
